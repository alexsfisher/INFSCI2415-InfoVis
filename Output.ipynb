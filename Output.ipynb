{
 "cells": [
  {
   "cell_type": "markdown",
   "metadata": {},
   "source": [
    "Display a dual axis histogram/line chart\n",
    "- X axis: months\n",
    "- Y axis bars: monthly publishing counts\n",
    "- Y Axis line: monthly covid cases\n",
    "\n"
   ]
  },
  {
   "cell_type": "code",
   "execution_count": null,
   "metadata": {},
   "outputs": [],
   "source": [
    "import pandas as pd\n",
    "import datetime\n",
    "import plotly.graph_objects as go\n",
    "from plotly.subplots import make_subplots"
   ]
  },
  {
   "cell_type": "code",
   "execution_count": null,
   "metadata": {},
   "outputs": [],
   "source": [
    "# read data from files\n",
    "papersDF = pd.read_csv('data/Papers.csv', header=0)\n",
    "covidDF = pd.read_csv('data/covid-19-all.csv', header=0)"
   ]
  },
  {
   "cell_type": "markdown",
   "metadata": {},
   "source": [
    "Aggregate dataframes\n",
    "\n",
    "Papers\n",
    "- Month\n",
    "- Number published in month\n",
    "\n",
    "Covid\n",
    "- Month\n",
    "- Total confirmed cases in month"
   ]
  },
  {
   "cell_type": "code",
   "execution_count": null,
   "metadata": {},
   "outputs": [],
   "source": [
    "# format date strings as datetimes\n",
    "papersDF['Date'] = pd.to_datetime(papersDF['Date'])\n",
    "papersDF['CreatedDate'] = pd.to_datetime(papersDF['CreatedDate'])\n",
    "covidDF['Date'] = pd.to_datetime(covidDF['Date'])"
   ]
  },
  {
   "cell_type": "code",
   "execution_count": null,
   "metadata": {
    "scrolled": false
   },
   "outputs": [],
   "source": [
    "# get rid of most recent and future publications\n",
    "papersDF = papersDF[papersDF['Date'] <= datetime.datetime(2020, 9, 30)].sort_values('Date')\n",
    "papersDF.tail()\n"
   ]
  },
  {
   "cell_type": "code",
   "execution_count": null,
   "metadata": {},
   "outputs": [],
   "source": [
    "# get rid of most recent data\n",
    "covidDF = covidDF[covidDF['Date'] <= datetime.datetime(2020, 9, 30)].sort_values('Date')\n",
    "covidDF.tail()"
   ]
  },
  {
   "cell_type": "code",
   "execution_count": null,
   "metadata": {
    "scrolled": true
   },
   "outputs": [],
   "source": [
    "# set up columns for aggregation\n",
    "papersAggDF = papersDF[['PaperId', 'Date']]\n",
    "papersAggDF.head()"
   ]
  },
  {
   "cell_type": "code",
   "execution_count": null,
   "metadata": {},
   "outputs": [],
   "source": [
    "# set up columns for aggregation\n",
    "covidAggDF = covidDF[['Confirmed', 'Date']].fillna(0)\n",
    "covidAggDF.head()"
   ]
  },
  {
   "cell_type": "code",
   "execution_count": null,
   "metadata": {},
   "outputs": [],
   "source": [
    "# aggregate monthly publication count\n",
    "monthlyPublishTotalsDF = papersAggDF.groupby(pd.Grouper(key='Date', freq='M')) \\\n",
    "    .count() \\\n",
    "    .rename(columns={'PaperId':'Paper Count'})\n",
    "monthlyPublishTotalsDF['Month'] = monthlyPublishTotalsDF.index.month.astype(str) + '/' + monthlyPublishTotalsDF.index.year.astype(str)\n",
    "monthlyPublishTotalsDF.head(30)"
   ]
  },
  {
   "cell_type": "code",
   "execution_count": null,
   "metadata": {},
   "outputs": [],
   "source": [
    "# monthly case count\n",
    "monthlyCovidTotalsDF = covidAggDF.groupby(pd.Grouper(key='Date', freq='M')).count()\n",
    "monthlyCovidTotalsDF['Month'] = monthlyCovidTotalsDF.index.month.astype(str) + '/' + monthlyCovidTotalsDF.index.year.astype(str)\n",
    "monthlyCovidTotalsDF.head(10)"
   ]
  },
  {
   "cell_type": "markdown",
   "metadata": {},
   "source": [
    "Use Plottly to create chart\n",
    "- X axis: months\n",
    "- Y axis bars: monthly publishing counts\n",
    "- Y Axis line: monthly covid cases"
   ]
  },
  {
   "cell_type": "code",
   "execution_count": null,
   "metadata": {},
   "outputs": [],
   "source": [
    "# configure secondary axis for this figure's subplots\n",
    "fig = make_subplots(specs=[[{\"secondary_y\": True}]])\n",
    "# add traces\n",
    "fig.add_trace(\n",
    "    go.Bar(\n",
    "        name='Unique publications',\n",
    "        x=monthlyPublishTotalsDF['Month'], \n",
    "        y=monthlyPublishTotalsDF['Paper Count']\n",
    "    ),\n",
    "    secondary_y=False\n",
    ")\n",
    "fig.add_trace(\n",
    "    go.Scatter(\n",
    "        name='Confirmed COVID19 cases',\n",
    "        x=monthlyCovidTotalsDF['Month'], \n",
    "        y=monthlyCovidTotalsDF['Confirmed'],\n",
    "        mode='lines'\n",
    "    ),\n",
    "    secondary_y=True\n",
    ")\n",
    "# layout\n",
    "fig.update_layout(title='Global publications and COVID19 cases by month')\n",
    "\n",
    "fig.show()"
   ]
  },
  {
   "cell_type": "code",
   "execution_count": null,
   "metadata": {},
   "outputs": [],
   "source": []
  }
 ],
 "metadata": {
  "kernelspec": {
   "display_name": "Python 3",
   "language": "python",
   "name": "python3"
  },
  "language_info": {
   "codemirror_mode": {
    "name": "ipython",
    "version": 3
   },
   "file_extension": ".py",
   "mimetype": "text/x-python",
   "name": "python",
   "nbconvert_exporter": "python",
   "pygments_lexer": "ipython3",
   "version": "3.7.1"
  }
 },
 "nbformat": 4,
 "nbformat_minor": 4
}
